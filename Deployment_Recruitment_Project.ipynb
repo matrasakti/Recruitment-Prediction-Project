{
  "cells": [
    {
      "cell_type": "markdown",
      "metadata": {
        "id": "view-in-github",
        "colab_type": "text"
      },
      "source": [
        "<a href=\"https://colab.research.google.com/github/matrasakti/Recruitment-Prediction-Project/blob/main/Deployment_Recruitment_Project.ipynb\" target=\"_parent\"><img src=\"https://colab.research.google.com/assets/colab-badge.svg\" alt=\"Open In Colab\"/></a>"
      ]
    },
    {
      "cell_type": "code",
      "execution_count": null,
      "metadata": {
        "id": "4UunGrTzwVtR"
      },
      "outputs": [],
      "source": [
        "import pickle\n",
        "\n",
        "# Load the Random Forest model from the file\n",
        "with open('RF_model.pkl', 'rb') as f:\n",
        "    model = pickle.load(f)"
      ]
    },
    {
      "cell_type": "code",
      "execution_count": null,
      "metadata": {
        "id": "FkG2nJ1a2aZt"
      },
      "outputs": [],
      "source": [
        "import pandas as pd\n",
        "from sklearn.preprocessing import StandardScaler\n",
        "\n",
        "def agecategorization(df):\n",
        "    df['New_Age_Categorization'] = pd.cut(\n",
        "        x=df['Age'],\n",
        "        bins=[0, 27, 43, 59],\n",
        "        labels=[\"Gen Z\", \"Millenial\", \"Gen X\"]\n",
        "    )\n",
        "\n",
        "def interviewcategorization(df):\n",
        "    df['New_InterviewScore_Categorization'] = pd.cut(\n",
        "        x=df['InterviewScore'],\n",
        "        bins=[-1, 21, 41, 62, 79, 100],\n",
        "        labels=[\"Very Low\", \"Low\", \"Medium\", \"High\", \"Very High\"]\n",
        "    )\n",
        "\n",
        "def skillcategorization(df):\n",
        "    df['New_SkillScore_Categorization'] = pd.cut(\n",
        "        x=df['SkillScore'],\n",
        "        bins=[-1, 20, 42, 62, 80, 100],\n",
        "        labels=[\"Very Low\", \"Low\", \"Medium\", \"High\", \"Very High\"]\n",
        "    )\n",
        "\n",
        "def personalitycategorization(df):\n",
        "    df['New_PersonalityScore_Categorization'] = pd.cut(\n",
        "        x=df['PersonalityScore'],\n",
        "        bins=[-1, 19, 39, 59, 80, 100],\n",
        "        labels=[\"Very Low\", \"Low\", \"Medium\", \"High\", \"Very High\"]\n",
        "    )\n",
        "\n",
        "# Function to one-hot encode categorized columns\n",
        "def one_hot_encode(df):\n",
        "    # One-hot encode categorical columns\n",
        "    df = pd.get_dummies(df, columns=[\n",
        "        'New_Age_Categorization',\n",
        "        'New_InterviewScore_Categorization',\n",
        "        'New_SkillScore_Categorization',\n",
        "        'New_PersonalityScore_Categorization'\n",
        "    ])\n",
        "    return df\n",
        "\n",
        "# Function to scale specific numerical columns\n",
        "def scale_numerical_columns(df):\n",
        "    # Columns to scale\n",
        "    columns_to_scale = ['Age', 'ExperienceYears', 'DistanceFromCompany', 'InterviewScore', 'SkillScore', 'PersonalityScore']\n",
        "\n",
        "    # Initialize scaler\n",
        "    scaler = StandardScaler()\n",
        "\n",
        "    # Fit and transform the specified columns\n",
        "    df[columns_to_scale] = scaler.fit_transform(df[columns_to_scale])\n",
        "\n",
        "    return df\n"
      ]
    },
    {
      "cell_type": "code",
      "execution_count": null,
      "metadata": {
        "id": "2KN3q6qy3R38"
      },
      "outputs": [],
      "source": [
        "def preprocess_input(data):\n",
        "    df = pd.DataFrame([data])\n",
        "\n",
        "    # Apply categorization\n",
        "    agecategorization(df)\n",
        "    interviewcategorization(df)\n",
        "    skillcategorization(df)\n",
        "    personalitycategorization(df)\n",
        "\n",
        "    # One-hot encode the categorical columns\n",
        "    df = one_hot_encode(df)\n",
        "\n",
        "    # Scale the numerical columns\n",
        "    df = scale_numerical_columns(df)\n",
        "\n",
        "    # Ensure the DataFrame contains only the required columns\n",
        "    required_columns = [\n",
        "        'Age', 'Gender', 'EducationLevel', 'ExperienceYears', 'PreviousCompanies',\n",
        "        'DistanceFromCompany', 'InterviewScore', 'SkillScore', 'PersonalityScore',\n",
        "        'RecruitmentStrategy',\n",
        "        'New_Age_Categorization_Millenial', 'New_Age_Categorization_Gen X',\n",
        "        'New_InterviewScore_Categorization_Low', 'New_InterviewScore_Categorization_Medium',\n",
        "        'New_InterviewScore_Categorization_High', 'New_InterviewScore_Categorization_Very High',\n",
        "        'New_SkillScore_Categorization_Low', 'New_SkillScore_Categorization_Medium',\n",
        "        'New_SkillScore_Categorization_High', 'New_SkillScore_Categorization_Very High',\n",
        "        'New_PersonalityScore_Categorization_Low', 'New_PersonalityScore_Categorization_Medium',\n",
        "        'New_PersonalityScore_Categorization_High', 'New_PersonalityScore_Categorization_Very High'\n",
        "    ]\n",
        "\n",
        "    # Add missing columns that weren't created during one-hot encoding\n",
        "    for col in required_columns:\n",
        "        if col not in df.columns:\n",
        "            df[col] = 0\n",
        "\n",
        "    # Ensure the final DataFrame contains only the required columns\n",
        "    df = df[required_columns]\n",
        "\n",
        "    return df\n"
      ]
    },
    {
      "cell_type": "code",
      "source": [
        "from flask import Flask, request, render_template_string\n",
        "import pandas as pd\n",
        "\n",
        "app = Flask(__name__)\n",
        "\n",
        "# HTML template for the input form\n",
        "html_template = '''\n",
        "<!DOCTYPE html>\n",
        "<html>\n",
        "<head>\n",
        "    <title>Recruitment Model</title>\n",
        "</head>\n",
        "<body>\n",
        "    <h2>Recruitment Probability Prediction</h2>\n",
        "    <form action=\"/predict\" method=\"post\">\n",
        "        <label for=\"age\">Age:</label><br>\n",
        "        <input type=\"number\" id=\"age\" name=\"age\" required><br><br>\n",
        "\n",
        "        <label for=\"gender\">Gender (1=Male, 0=Female):</label><br>\n",
        "        <input type=\"number\" id=\"gender\" name=\"gender\" required><br><br>\n",
        "\n",
        "        <label for=\"education\">Education Level:</label><br>\n",
        "        <input type=\"number\" id=\"education\" name=\"education\" required><br><br>\n",
        "\n",
        "        <label for=\"experience\">Years of Experience:</label><br>\n",
        "        <input type=\"number\" id=\"experience\" name=\"experience\" required><br><br>\n",
        "\n",
        "        <label for=\"previous_companies\">Previous Companies:</label><br>\n",
        "        <input type=\"number\" id=\"previous_companies\" name=\"previous_companies\" required><br><br>\n",
        "\n",
        "        <label for=\"distance\">Distance from Company:</label><br>\n",
        "        <input type=\"number\" id=\"distance\" name=\"distance\" required><br><br>\n",
        "\n",
        "        <label for=\"interview_score\">Interview Score:</label><br>\n",
        "        <input type=\"number\" id=\"interview_score\" name=\"interview_score\" required><br><br>\n",
        "\n",
        "        <label for=\"skill_score\">Skill Score:</label><br>\n",
        "        <input type=\"number\" id=\"skill_score\" name=\"skill_score\" required><br><br>\n",
        "\n",
        "        <label for=\"personality_score\">Personality Score:</label><br>\n",
        "        <input type=\"number\" id=\"personality_score\" name=\"personality_score\" required><br><br>\n",
        "\n",
        "        <label for=\"strategy\">Recruitment Strategy (numeric):</label><br>\n",
        "        <input type=\"number\" id=\"strategy\" name=\"strategy\" required><br><br>\n",
        "\n",
        "        <input type=\"submit\" value=\"Predict\">\n",
        "    </form>\n",
        "    <br>\n",
        "    {% if prediction %}\n",
        "    <h3>{{ prediction }}</h3>\n",
        "    {% endif %}\n",
        "</body>\n",
        "</html>\n",
        "'''\n",
        "\n",
        "# Route for the home page (input form)\n",
        "@app.route('/', methods=['GET'])\n",
        "def home():\n",
        "    return render_template_string(html_template)\n",
        "\n",
        "# Route for prediction\n",
        "@app.route('/predict', methods=['POST'])\n",
        "def predict():\n",
        "    try:\n",
        "        # Collect form data\n",
        "        input_data = {\n",
        "            'Age': float(request.form['age']),\n",
        "            'Gender': float(request.form['gender']),\n",
        "            'EducationLevel': float(request.form['education']),\n",
        "            'ExperienceYears': float(request.form['experience']),\n",
        "            'PreviousCompanies': float(request.form['previous_companies']),\n",
        "            'DistanceFromCompany': float(request.form['distance']),\n",
        "            'InterviewScore': float(request.form['interview_score']),\n",
        "            'SkillScore': float(request.form['skill_score']),\n",
        "            'PersonalityScore': float(request.form['personality_score']),\n",
        "            'RecruitmentStrategy': float(request.form['strategy'])\n",
        "        }\n",
        "\n",
        "        # Preprocess input\n",
        "        processed_input = preprocess_input(input_data)\n",
        "\n",
        "        # Convert to numpy array\n",
        "        input_array = processed_input.values\n",
        "\n",
        "        # Predict using the model\n",
        "        prediction = model.predict_proba(input_array)[0][1]  # Probability of acceptance\n",
        "        probability_percentage = round(prediction * 100, 2)\n",
        "\n",
        "        # Render the prediction\n",
        "        return render_template_string(html_template, prediction=f'Acceptance Probability: {probability_percentage}%')\n",
        "\n",
        "    except Exception as e:\n",
        "        return render_template_string(html_template, prediction=f'Error: {str(e)}')\n"
      ],
      "metadata": {
        "id": "rFq_foazTALu"
      },
      "execution_count": null,
      "outputs": []
    },
    {
      "cell_type": "code",
      "source": [
        "!pip install pyngrok\n",
        "from pyngrok import ngrok\n",
        "\n",
        "!ngrok authtoken 2jjsQAjKw0oZLUlQfIVefQil90V_4QLCeymJrNVih1gEVZFhQ"
      ],
      "metadata": {
        "colab": {
          "base_uri": "https://localhost:8080/"
        },
        "id": "0GWdrqyVTxrb",
        "outputId": "8b74bf68-9a6f-4f6d-c216-1832dbc637d6"
      },
      "execution_count": null,
      "outputs": [
        {
          "output_type": "stream",
          "name": "stdout",
          "text": [
            "Collecting pyngrok\n",
            "  Downloading pyngrok-7.2.1-py3-none-any.whl.metadata (8.3 kB)\n",
            "Requirement already satisfied: PyYAML>=5.1 in /usr/local/lib/python3.10/dist-packages (from pyngrok) (6.0.2)\n",
            "Downloading pyngrok-7.2.1-py3-none-any.whl (22 kB)\n",
            "Installing collected packages: pyngrok\n",
            "Successfully installed pyngrok-7.2.1\n",
            "Authtoken saved to configuration file: /root/.config/ngrok/ngrok.yml\n"
          ]
        }
      ]
    },
    {
      "cell_type": "code",
      "source": [
        "from threading import Thread\n",
        "\n",
        "def run_app():\n",
        "    app.run(port=5000)\n",
        "\n",
        "# Start the Flask app\n",
        "thread = Thread(target=run_app)\n",
        "thread.start()"
      ],
      "metadata": {
        "colab": {
          "base_uri": "https://localhost:8080/"
        },
        "id": "Xv-3637QUQRi",
        "outputId": "99b1fa4a-11c4-48e8-fd19-c01a566aa6d1"
      },
      "execution_count": null,
      "outputs": [
        {
          "output_type": "stream",
          "name": "stdout",
          "text": [
            " * Serving Flask app '__main__'\n",
            " * Debug mode: off\n"
          ]
        },
        {
          "output_type": "stream",
          "name": "stderr",
          "text": [
            "INFO:werkzeug:\u001b[31m\u001b[1mWARNING: This is a development server. Do not use it in a production deployment. Use a production WSGI server instead.\u001b[0m\n",
            " * Running on http://127.0.0.1:5000\n",
            "INFO:werkzeug:\u001b[33mPress CTRL+C to quit\u001b[0m\n"
          ]
        }
      ]
    },
    {
      "cell_type": "code",
      "source": [
        "# Open an ngrok tunnel to the default Flask port 5000\n",
        "public_url = ngrok.connect(5000).public_url\n",
        "print(f'Public URL: {public_url}')"
      ],
      "metadata": {
        "colab": {
          "base_uri": "https://localhost:8080/"
        },
        "id": "HZVZySljURzo",
        "outputId": "f574a388-9127-450e-e11a-92934e6511ec"
      },
      "execution_count": null,
      "outputs": [
        {
          "output_type": "stream",
          "name": "stdout",
          "text": [
            "Public URL: https://48e3-35-196-120-83.ngrok-free.app\n"
          ]
        }
      ]
    }
  ],
  "metadata": {
    "colab": {
      "provenance": [],
      "authorship_tag": "ABX9TyNZ+t2pjWBp/MvA25Nspkzd",
      "include_colab_link": true
    },
    "kernelspec": {
      "display_name": "Python 3",
      "name": "python3"
    },
    "language_info": {
      "name": "python"
    }
  },
  "nbformat": 4,
  "nbformat_minor": 0
}